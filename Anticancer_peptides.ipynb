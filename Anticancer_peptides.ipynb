{
  "nbformat": 4,
  "nbformat_minor": 0,
  "metadata": {
    "colab": {
      "name": "Anticancer_peptides.ipynb",
      "provenance": [],
      "authorship_tag": "ABX9TyMKHa+kYf+nnlVNuue6xJxw",
      "include_colab_link": true
    },
    "kernelspec": {
      "name": "python3",
      "display_name": "Python 3"
    }
  },
  "cells": [
    {
      "cell_type": "markdown",
      "metadata": {
        "id": "view-in-github",
        "colab_type": "text"
      },
      "source": [
        "<a href=\"https://colab.research.google.com/github/alirezash97/Pattern-Recognition-Course/blob/main/Anticancer_peptides.ipynb\" target=\"_parent\"><img src=\"https://colab.research.google.com/assets/colab-badge.svg\" alt=\"Open In Colab\"/></a>"
      ]
    },
    {
      "cell_type": "code",
      "metadata": {
        "id": "D8nLHipKPpkQ"
      },
      "source": [
        "!wget 'https://archive.ics.uci.edu/ml/machine-learning-databases/00589/Anticancer_Peptides.zip'"
      ],
      "execution_count": null,
      "outputs": []
    },
    {
      "cell_type": "code",
      "metadata": {
        "id": "8p1o7wzit1o9"
      },
      "source": [
        "!unzip '/content/Anticancer_Peptides.zip'"
      ],
      "execution_count": null,
      "outputs": []
    },
    {
      "cell_type": "code",
      "metadata": {
        "id": "Jn6s9cfq4Ikz"
      },
      "source": [
        "import numpy as np\r\n",
        "from math import ceil, log2"
      ],
      "execution_count": 58,
      "outputs": []
    },
    {
      "cell_type": "code",
      "metadata": {
        "colab": {
          "base_uri": "https://localhost:8080/",
          "height": 212
        },
        "id": "mm_WoUBWt77Z",
        "outputId": "bfdb206f-971b-4b92-c3b9-e99271ce2111"
      },
      "source": [
        "import pandas as pd \r\n",
        "\r\n",
        "lung_data = pd.read_csv('/content/ACPs_Lung_cancer.csv')\r\n",
        "print(len(lung_data))\r\n",
        "lung_data.head()"
      ],
      "execution_count": 8,
      "outputs": [
        {
          "output_type": "stream",
          "text": [
            "901\n"
          ],
          "name": "stdout"
        },
        {
          "output_type": "execute_result",
          "data": {
            "text/html": [
              "<div>\n",
              "<style scoped>\n",
              "    .dataframe tbody tr th:only-of-type {\n",
              "        vertical-align: middle;\n",
              "    }\n",
              "\n",
              "    .dataframe tbody tr th {\n",
              "        vertical-align: top;\n",
              "    }\n",
              "\n",
              "    .dataframe thead th {\n",
              "        text-align: right;\n",
              "    }\n",
              "</style>\n",
              "<table border=\"1\" class=\"dataframe\">\n",
              "  <thead>\n",
              "    <tr style=\"text-align: right;\">\n",
              "      <th></th>\n",
              "      <th>ID</th>\n",
              "      <th>sequence</th>\n",
              "      <th>class</th>\n",
              "    </tr>\n",
              "  </thead>\n",
              "  <tbody>\n",
              "    <tr>\n",
              "      <th>0</th>\n",
              "      <td>1</td>\n",
              "      <td>AIGKFLHSAKKFGKAFVGEIMNS</td>\n",
              "      <td>mod. active</td>\n",
              "    </tr>\n",
              "    <tr>\n",
              "      <th>1</th>\n",
              "      <td>2</td>\n",
              "      <td>FAKALAKLAKKLL</td>\n",
              "      <td>mod. active</td>\n",
              "    </tr>\n",
              "    <tr>\n",
              "      <th>2</th>\n",
              "      <td>3</td>\n",
              "      <td>FAKALKALLKALKAL</td>\n",
              "      <td>mod. active</td>\n",
              "    </tr>\n",
              "    <tr>\n",
              "      <th>3</th>\n",
              "      <td>4</td>\n",
              "      <td>FAKFLAKFLKKAL</td>\n",
              "      <td>mod. active</td>\n",
              "    </tr>\n",
              "    <tr>\n",
              "      <th>4</th>\n",
              "      <td>5</td>\n",
              "      <td>FAKIIAKIAKIAKKIL</td>\n",
              "      <td>inactive - exp</td>\n",
              "    </tr>\n",
              "  </tbody>\n",
              "</table>\n",
              "</div>"
            ],
            "text/plain": [
              "   ID                 sequence           class\n",
              "0   1  AIGKFLHSAKKFGKAFVGEIMNS     mod. active\n",
              "1   2            FAKALAKLAKKLL     mod. active\n",
              "2   3          FAKALKALLKALKAL     mod. active\n",
              "3   4            FAKFLAKFLKKAL     mod. active\n",
              "4   5         FAKIIAKIAKIAKKIL  inactive - exp"
            ]
          },
          "metadata": {
            "tags": []
          },
          "execution_count": 8
        }
      ]
    },
    {
      "cell_type": "code",
      "metadata": {
        "colab": {
          "base_uri": "https://localhost:8080/"
        },
        "id": "EC-VkQZXuQjN",
        "outputId": "4f04878f-305c-412d-cc86-34a3dde57619"
      },
      "source": [
        "lung_data['class'].unique()"
      ],
      "execution_count": 40,
      "outputs": [
        {
          "output_type": "execute_result",
          "data": {
            "text/plain": [
              "array(['mod. active', 'inactive - exp', 'very active',\n",
              "       'inactive - virtual'], dtype=object)"
            ]
          },
          "metadata": {
            "tags": []
          },
          "execution_count": 40
        }
      ]
    },
    {
      "cell_type": "code",
      "metadata": {
        "colab": {
          "base_uri": "https://localhost:8080/"
        },
        "id": "TqrFPFOl6BS0",
        "outputId": "3e9d06f3-68b8-41be-a184-301e9153c35f"
      },
      "source": [
        "# find the maximum number of chars\r\n",
        "\r\n",
        "max = 0\r\n",
        "for i in lung_data['sequence']:\r\n",
        "  if len(i) > max:\r\n",
        "    max = len(i)\r\n",
        "print(max)"
      ],
      "execution_count": 29,
      "outputs": [
        {
          "output_type": "stream",
          "text": [
            "38\n"
          ],
          "name": "stdout"
        }
      ]
    },
    {
      "cell_type": "code",
      "metadata": {
        "id": "kdGwfb1ixBoP"
      },
      "source": [
        "# preprocessing\r\n",
        "\r\n",
        "def binary_encoder(dataset):\r\n",
        "  \r\n",
        "  \r\n",
        "  inputs = np.zeros((len(dataset), max*5)) # 5 bits for each char\r\n",
        "  for sequence_index, sequence in enumerate(dataset['sequence']):\r\n",
        "    for char_index, char in enumerate(sequence):\r\n",
        "      binary_char = '{0:05b}'.format(ord(char) - 64)\r\n",
        "      inputs[ sequence_index, char_index*5 : (char_index+1)*5 ] = [i for i in binary_char]\r\n",
        "\r\n",
        "  \r\n",
        "\r\n",
        "  labels = np.zeros(( len(dataset), ))\r\n",
        "  for row_index, row in enumerate(dataset['class']):\r\n",
        "    \r\n",
        "\r\n",
        "    if row  == 'mod. active':\r\n",
        "      labels[row_index] = 0\r\n",
        "    elif row  == 'inactive - exp':\r\n",
        "      labels[row_index] = 1\r\n",
        "    elif row  == 'very active':\r\n",
        "      labels[row_index] = 2\r\n",
        "    elif row  == 'inactive - virtual':\r\n",
        "      labels[row_index] = 3\r\n",
        "    else:\r\n",
        "      labels[row_index] = None\r\n",
        "\r\n",
        "  return inputs, labels\r\n",
        "\r\n"
      ],
      "execution_count": 85,
      "outputs": []
    },
    {
      "cell_type": "code",
      "metadata": {
        "id": "SEs9Uy_O_bMK"
      },
      "source": [
        "x, y = binary_encoder(lung_data)"
      ],
      "execution_count": 86,
      "outputs": []
    },
    {
      "cell_type": "code",
      "metadata": {
        "colab": {
          "base_uri": "https://localhost:8080/"
        },
        "id": "7G8sU_7TDpPN",
        "outputId": "72c4ca48-9aed-48c4-fc00-ad7f360486ca"
      },
      "source": [
        "print(x[0, :])\r\n",
        "print(y[0])"
      ],
      "execution_count": 92,
      "outputs": [
        {
          "output_type": "stream",
          "text": [
            "[0. 0. 0. 0. 1. 0. 1. 0. 0. 1. 0. 0. 1. 1. 1. 0. 1. 0. 1. 1. 0. 0. 1. 1.\n",
            " 0. 0. 1. 1. 0. 0. 0. 1. 0. 0. 0. 1. 0. 0. 1. 1. 0. 0. 0. 0. 1. 0. 1. 0.\n",
            " 1. 1. 0. 1. 0. 1. 1. 0. 0. 1. 1. 0. 0. 0. 1. 1. 1. 0. 1. 0. 1. 1. 0. 0.\n",
            " 0. 0. 1. 0. 0. 1. 1. 0. 1. 0. 1. 1. 0. 0. 0. 1. 1. 1. 0. 0. 1. 0. 1. 0.\n",
            " 1. 0. 0. 1. 0. 1. 1. 0. 1. 0. 1. 1. 1. 0. 1. 0. 0. 1. 1. 0. 0. 0. 0. 0.\n",
            " 0. 0. 0. 0. 0. 0. 0. 0. 0. 0. 0. 0. 0. 0. 0. 0. 0. 0. 0. 0. 0. 0. 0. 0.\n",
            " 0. 0. 0. 0. 0. 0. 0. 0. 0. 0. 0. 0. 0. 0. 0. 0. 0. 0. 0. 0. 0. 0. 0. 0.\n",
            " 0. 0. 0. 0. 0. 0. 0. 0. 0. 0. 0. 0. 0. 0. 0. 0. 0. 0. 0. 0. 0. 0.]\n",
            "0.0\n"
          ],
          "name": "stdout"
        }
      ]
    },
    {
      "cell_type": "code",
      "metadata": {
        "colab": {
          "base_uri": "https://localhost:8080/"
        },
        "id": "pmDcSsfxEGOu",
        "outputId": "3e9d9697-0207-4f77-d970-8aa25392286a"
      },
      "source": [
        "lung_data.loc[pd.isna(lung_data['class']), :].index"
      ],
      "execution_count": 95,
      "outputs": [
        {
          "output_type": "execute_result",
          "data": {
            "text/plain": [
              "Int64Index([], dtype='int64')"
            ]
          },
          "metadata": {
            "tags": []
          },
          "execution_count": 95
        }
      ]
    },
    {
      "cell_type": "code",
      "metadata": {
        "id": "njaUy6aeGcId"
      },
      "source": [
        ""
      ],
      "execution_count": null,
      "outputs": []
    }
  ]
}