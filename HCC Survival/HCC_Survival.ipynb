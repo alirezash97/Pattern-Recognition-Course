{
  "nbformat": 4,
  "nbformat_minor": 0,
  "metadata": {
    "colab": {
      "name": "HCC_Survival.ipynb",
      "provenance": [],
      "authorship_tag": "ABX9TyO6rcXUtTvYuOs+Cf0fvIBt",
      "include_colab_link": true
    },
    "kernelspec": {
      "name": "python3",
      "display_name": "Python 3"
    }
  },
  "cells": [
    {
      "cell_type": "markdown",
      "metadata": {
        "id": "view-in-github",
        "colab_type": "text"
      },
      "source": [
        "<a href=\"https://colab.research.google.com/github/alirezash97/Pattern-Recognition-Course/blob/main/HCC%20Survival/HCC_Survival.ipynb\" target=\"_parent\"><img src=\"https://colab.research.google.com/assets/colab-badge.svg\" alt=\"Open In Colab\"/></a>"
      ]
    },
    {
      "cell_type": "code",
      "metadata": {
        "id": "WAn44tDoD4_P"
      },
      "source": [
        "!wget 'https://archive.ics.uci.edu/ml/machine-learning-databases/00423/hcc-survival.zip'"
      ],
      "execution_count": null,
      "outputs": []
    },
    {
      "cell_type": "code",
      "metadata": {
        "colab": {
          "base_uri": "https://localhost:8080/"
        },
        "id": "KvVNg_wAFhKf",
        "outputId": "4534282a-732b-43ea-b6f9-668baa7cc35b"
      },
      "source": [
        "!unzip '/content/hcc-survival.zip'"
      ],
      "execution_count": 2,
      "outputs": [
        {
          "output_type": "stream",
          "text": [
            "Archive:  /content/hcc-survival.zip\n",
            "   creating: hcc-survival/\n",
            "  inflating: hcc-survival/hcc-data.txt  \n",
            "   creating: __MACOSX/\n",
            "   creating: __MACOSX/hcc-survival/\n",
            "  inflating: __MACOSX/hcc-survival/._hcc-data.txt  \n",
            "  inflating: hcc-survival/hcc-description.txt  \n",
            "  inflating: __MACOSX/hcc-survival/._hcc-description.txt  \n"
          ],
          "name": "stdout"
        }
      ]
    },
    {
      "cell_type": "code",
      "metadata": {
        "colab": {
          "base_uri": "https://localhost:8080/",
          "height": 215
        },
        "id": "EZ314TcDHfzZ",
        "outputId": "a0b78c0c-5604-4972-bb15-420b4a71a5c7"
      },
      "source": [
        "import pandas as pd \r\n",
        "\r\n",
        "dataset = pd.read_csv (r'/content/hcc-survival/hcc-data.txt', header=None)\r\n",
        "dataset.head()"
      ],
      "execution_count": 1,
      "outputs": [
        {
          "output_type": "execute_result",
          "data": {
            "text/html": [
              "<div>\n",
              "<style scoped>\n",
              "    .dataframe tbody tr th:only-of-type {\n",
              "        vertical-align: middle;\n",
              "    }\n",
              "\n",
              "    .dataframe tbody tr th {\n",
              "        vertical-align: top;\n",
              "    }\n",
              "\n",
              "    .dataframe thead th {\n",
              "        text-align: right;\n",
              "    }\n",
              "</style>\n",
              "<table border=\"1\" class=\"dataframe\">\n",
              "  <thead>\n",
              "    <tr style=\"text-align: right;\">\n",
              "      <th></th>\n",
              "      <th>0</th>\n",
              "      <th>1</th>\n",
              "      <th>2</th>\n",
              "      <th>3</th>\n",
              "      <th>4</th>\n",
              "      <th>5</th>\n",
              "      <th>6</th>\n",
              "      <th>7</th>\n",
              "      <th>8</th>\n",
              "      <th>9</th>\n",
              "      <th>10</th>\n",
              "      <th>11</th>\n",
              "      <th>12</th>\n",
              "      <th>13</th>\n",
              "      <th>14</th>\n",
              "      <th>15</th>\n",
              "      <th>16</th>\n",
              "      <th>17</th>\n",
              "      <th>18</th>\n",
              "      <th>19</th>\n",
              "      <th>20</th>\n",
              "      <th>21</th>\n",
              "      <th>22</th>\n",
              "      <th>23</th>\n",
              "      <th>24</th>\n",
              "      <th>25</th>\n",
              "      <th>26</th>\n",
              "      <th>27</th>\n",
              "      <th>28</th>\n",
              "      <th>29</th>\n",
              "      <th>30</th>\n",
              "      <th>31</th>\n",
              "      <th>32</th>\n",
              "      <th>33</th>\n",
              "      <th>34</th>\n",
              "      <th>35</th>\n",
              "      <th>36</th>\n",
              "      <th>37</th>\n",
              "      <th>38</th>\n",
              "      <th>39</th>\n",
              "      <th>40</th>\n",
              "      <th>41</th>\n",
              "      <th>42</th>\n",
              "      <th>43</th>\n",
              "      <th>44</th>\n",
              "      <th>45</th>\n",
              "      <th>46</th>\n",
              "      <th>47</th>\n",
              "      <th>48</th>\n",
              "      <th>49</th>\n",
              "    </tr>\n",
              "  </thead>\n",
              "  <tbody>\n",
              "    <tr>\n",
              "      <th>0</th>\n",
              "      <td>1</td>\n",
              "      <td>0</td>\n",
              "      <td>1</td>\n",
              "      <td>0</td>\n",
              "      <td>0</td>\n",
              "      <td>0</td>\n",
              "      <td>0</td>\n",
              "      <td>1</td>\n",
              "      <td>0</td>\n",
              "      <td>1</td>\n",
              "      <td>1</td>\n",
              "      <td>?</td>\n",
              "      <td>1</td>\n",
              "      <td>0</td>\n",
              "      <td>0</td>\n",
              "      <td>0</td>\n",
              "      <td>0</td>\n",
              "      <td>1</td>\n",
              "      <td>0</td>\n",
              "      <td>0</td>\n",
              "      <td>0</td>\n",
              "      <td>0</td>\n",
              "      <td>1</td>\n",
              "      <td>67</td>\n",
              "      <td>137</td>\n",
              "      <td>15</td>\n",
              "      <td>0</td>\n",
              "      <td>1</td>\n",
              "      <td>1</td>\n",
              "      <td>1.53</td>\n",
              "      <td>95</td>\n",
              "      <td>13.7</td>\n",
              "      <td>106.6</td>\n",
              "      <td>4.9</td>\n",
              "      <td>99</td>\n",
              "      <td>3.4</td>\n",
              "      <td>2.1</td>\n",
              "      <td>34</td>\n",
              "      <td>41</td>\n",
              "      <td>183</td>\n",
              "      <td>150</td>\n",
              "      <td>7.1</td>\n",
              "      <td>0.7</td>\n",
              "      <td>1</td>\n",
              "      <td>3.5</td>\n",
              "      <td>0.5</td>\n",
              "      <td>?</td>\n",
              "      <td>?</td>\n",
              "      <td>?</td>\n",
              "      <td>1</td>\n",
              "    </tr>\n",
              "    <tr>\n",
              "      <th>1</th>\n",
              "      <td>0</td>\n",
              "      <td>?</td>\n",
              "      <td>0</td>\n",
              "      <td>0</td>\n",
              "      <td>0</td>\n",
              "      <td>0</td>\n",
              "      <td>1</td>\n",
              "      <td>1</td>\n",
              "      <td>?</td>\n",
              "      <td>?</td>\n",
              "      <td>1</td>\n",
              "      <td>0</td>\n",
              "      <td>0</td>\n",
              "      <td>1</td>\n",
              "      <td>0</td>\n",
              "      <td>0</td>\n",
              "      <td>0</td>\n",
              "      <td>1</td>\n",
              "      <td>0</td>\n",
              "      <td>0</td>\n",
              "      <td>0</td>\n",
              "      <td>0</td>\n",
              "      <td>1</td>\n",
              "      <td>62</td>\n",
              "      <td>0</td>\n",
              "      <td>?</td>\n",
              "      <td>0</td>\n",
              "      <td>1</td>\n",
              "      <td>1</td>\n",
              "      <td>?</td>\n",
              "      <td>?</td>\n",
              "      <td>?</td>\n",
              "      <td>?</td>\n",
              "      <td>?</td>\n",
              "      <td>?</td>\n",
              "      <td>?</td>\n",
              "      <td>?</td>\n",
              "      <td>?</td>\n",
              "      <td>?</td>\n",
              "      <td>?</td>\n",
              "      <td>?</td>\n",
              "      <td>?</td>\n",
              "      <td>?</td>\n",
              "      <td>1</td>\n",
              "      <td>1.8</td>\n",
              "      <td>?</td>\n",
              "      <td>?</td>\n",
              "      <td>?</td>\n",
              "      <td>?</td>\n",
              "      <td>1</td>\n",
              "    </tr>\n",
              "    <tr>\n",
              "      <th>2</th>\n",
              "      <td>1</td>\n",
              "      <td>0</td>\n",
              "      <td>1</td>\n",
              "      <td>1</td>\n",
              "      <td>0</td>\n",
              "      <td>1</td>\n",
              "      <td>0</td>\n",
              "      <td>1</td>\n",
              "      <td>0</td>\n",
              "      <td>1</td>\n",
              "      <td>0</td>\n",
              "      <td>0</td>\n",
              "      <td>0</td>\n",
              "      <td>1</td>\n",
              "      <td>1</td>\n",
              "      <td>0</td>\n",
              "      <td>0</td>\n",
              "      <td>0</td>\n",
              "      <td>0</td>\n",
              "      <td>1</td>\n",
              "      <td>0</td>\n",
              "      <td>1</td>\n",
              "      <td>1</td>\n",
              "      <td>78</td>\n",
              "      <td>50</td>\n",
              "      <td>50</td>\n",
              "      <td>2</td>\n",
              "      <td>1</td>\n",
              "      <td>2</td>\n",
              "      <td>0.96</td>\n",
              "      <td>5.8</td>\n",
              "      <td>8.9</td>\n",
              "      <td>79.8</td>\n",
              "      <td>8.4</td>\n",
              "      <td>472</td>\n",
              "      <td>3.3</td>\n",
              "      <td>0.4</td>\n",
              "      <td>58</td>\n",
              "      <td>68</td>\n",
              "      <td>202</td>\n",
              "      <td>109</td>\n",
              "      <td>7</td>\n",
              "      <td>2.1</td>\n",
              "      <td>5</td>\n",
              "      <td>13</td>\n",
              "      <td>0.1</td>\n",
              "      <td>28</td>\n",
              "      <td>6</td>\n",
              "      <td>16</td>\n",
              "      <td>1</td>\n",
              "    </tr>\n",
              "    <tr>\n",
              "      <th>3</th>\n",
              "      <td>1</td>\n",
              "      <td>1</td>\n",
              "      <td>1</td>\n",
              "      <td>0</td>\n",
              "      <td>0</td>\n",
              "      <td>0</td>\n",
              "      <td>0</td>\n",
              "      <td>1</td>\n",
              "      <td>0</td>\n",
              "      <td>1</td>\n",
              "      <td>1</td>\n",
              "      <td>0</td>\n",
              "      <td>0</td>\n",
              "      <td>1</td>\n",
              "      <td>0</td>\n",
              "      <td>0</td>\n",
              "      <td>0</td>\n",
              "      <td>0</td>\n",
              "      <td>0</td>\n",
              "      <td>0</td>\n",
              "      <td>0</td>\n",
              "      <td>1</td>\n",
              "      <td>1</td>\n",
              "      <td>77</td>\n",
              "      <td>40</td>\n",
              "      <td>30</td>\n",
              "      <td>0</td>\n",
              "      <td>1</td>\n",
              "      <td>1</td>\n",
              "      <td>0.95</td>\n",
              "      <td>2440</td>\n",
              "      <td>13.4</td>\n",
              "      <td>97.1</td>\n",
              "      <td>9</td>\n",
              "      <td>279</td>\n",
              "      <td>3.7</td>\n",
              "      <td>0.4</td>\n",
              "      <td>16</td>\n",
              "      <td>64</td>\n",
              "      <td>94</td>\n",
              "      <td>174</td>\n",
              "      <td>8.1</td>\n",
              "      <td>1.11</td>\n",
              "      <td>2</td>\n",
              "      <td>15.7</td>\n",
              "      <td>0.2</td>\n",
              "      <td>?</td>\n",
              "      <td>?</td>\n",
              "      <td>?</td>\n",
              "      <td>0</td>\n",
              "    </tr>\n",
              "    <tr>\n",
              "      <th>4</th>\n",
              "      <td>1</td>\n",
              "      <td>1</td>\n",
              "      <td>1</td>\n",
              "      <td>1</td>\n",
              "      <td>0</td>\n",
              "      <td>1</td>\n",
              "      <td>0</td>\n",
              "      <td>1</td>\n",
              "      <td>0</td>\n",
              "      <td>1</td>\n",
              "      <td>0</td>\n",
              "      <td>0</td>\n",
              "      <td>0</td>\n",
              "      <td>1</td>\n",
              "      <td>1</td>\n",
              "      <td>0</td>\n",
              "      <td>0</td>\n",
              "      <td>0</td>\n",
              "      <td>0</td>\n",
              "      <td>0</td>\n",
              "      <td>0</td>\n",
              "      <td>0</td>\n",
              "      <td>1</td>\n",
              "      <td>76</td>\n",
              "      <td>100</td>\n",
              "      <td>30</td>\n",
              "      <td>0</td>\n",
              "      <td>1</td>\n",
              "      <td>1</td>\n",
              "      <td>0.94</td>\n",
              "      <td>49</td>\n",
              "      <td>14.3</td>\n",
              "      <td>95.1</td>\n",
              "      <td>6.4</td>\n",
              "      <td>199</td>\n",
              "      <td>4.1</td>\n",
              "      <td>0.7</td>\n",
              "      <td>147</td>\n",
              "      <td>306</td>\n",
              "      <td>173</td>\n",
              "      <td>109</td>\n",
              "      <td>6.9</td>\n",
              "      <td>1.8</td>\n",
              "      <td>1</td>\n",
              "      <td>9</td>\n",
              "      <td>?</td>\n",
              "      <td>59</td>\n",
              "      <td>15</td>\n",
              "      <td>22</td>\n",
              "      <td>1</td>\n",
              "    </tr>\n",
              "  </tbody>\n",
              "</table>\n",
              "</div>"
            ],
            "text/plain": [
              "   0  1   2  3  4  5  6   7  8   ...   41    42 43    44   45  46  47  48 49\n",
              "0   1  0   1  0  0  0  0   1  0  ...  7.1   0.7  1   3.5  0.5   ?   ?   ?  1\n",
              "1   0  ?   0  0  0  0  1   1  ?  ...    ?     ?  1   1.8    ?   ?   ?   ?  1\n",
              "2   1  0   1  1  0  1  0   1  0  ...    7   2.1  5    13  0.1  28   6  16  1\n",
              "3   1  1   1  0  0  0  0   1  0  ...  8.1  1.11  2  15.7  0.2   ?   ?   ?  0\n",
              "4   1  1   1  1  0  1  0   1  0  ...  6.9   1.8  1     9    ?  59  15  22  1\n",
              "\n",
              "[5 rows x 50 columns]"
            ]
          },
          "metadata": {
            "tags": []
          },
          "execution_count": 1
        }
      ]
    },
    {
      "cell_type": "code",
      "metadata": {
        "colab": {
          "base_uri": "https://localhost:8080/"
        },
        "id": "4LRGEtXaFnZU",
        "outputId": "e43ba7e0-f268-4701-e935-f6df2e3ca892"
      },
      "source": [
        "import numpy as np \r\n",
        "\r\n",
        "\r\n",
        "dataset = dataset.replace(['?'], np.nan)\r\n",
        "dataset.isna().sum()"
      ],
      "execution_count": 2,
      "outputs": [
        {
          "output_type": "execute_result",
          "data": {
            "text/plain": [
              "0      0\n",
              "1     18\n",
              "2      0\n",
              "3     17\n",
              "4     39\n",
              "5     24\n",
              "6      9\n",
              "7      0\n",
              "8     39\n",
              "9     41\n",
              "10     3\n",
              "11    10\n",
              "12    23\n",
              "13     3\n",
              "14     2\n",
              "15    14\n",
              "16    22\n",
              "17    52\n",
              "18    15\n",
              "19    11\n",
              "20     3\n",
              "21     4\n",
              "22     2\n",
              "23     0\n",
              "24    48\n",
              "25    53\n",
              "26     0\n",
              "27     1\n",
              "28     2\n",
              "29     4\n",
              "30     8\n",
              "31     3\n",
              "32     3\n",
              "33     3\n",
              "34     3\n",
              "35     6\n",
              "36     5\n",
              "37     4\n",
              "38     3\n",
              "39     3\n",
              "40     3\n",
              "41    11\n",
              "42     7\n",
              "43     2\n",
              "44    20\n",
              "45    44\n",
              "46    79\n",
              "47    80\n",
              "48    80\n",
              "49     0\n",
              "dtype: int64"
            ]
          },
          "metadata": {
            "tags": []
          },
          "execution_count": 2
        }
      ]
    },
    {
      "cell_type": "code",
      "metadata": {
        "id": "wI-92bucGDvB"
      },
      "source": [
        "missing_values_indexes = {}\r\n",
        "for column in dataset:\r\n",
        "  if dataset[column].isnull().values.any():\r\n",
        "    missing_values_indexes[str(column)] = dataset[column].isnull().to_numpy().nonzero()"
      ],
      "execution_count": 3,
      "outputs": []
    },
    {
      "cell_type": "code",
      "metadata": {
        "id": "_WxnxxU5IlYk"
      },
      "source": [
        "def missing_handle_classmean(dataframe, column, indexes):\r\n",
        "  \r\n",
        "\r\n",
        "  for index in indexes[0]:\r\n",
        "    \r\n",
        "    missing_value_class_values = []\r\n",
        "  \r\n",
        "    index_label = dataframe[49][index]\r\n",
        "    for row_index, row in dataset.iterrows():\r\n",
        "      \r\n",
        "      row_label = dataframe[49][row_index]\r\n",
        "      if str(index_label) == str(row_label):\r\n",
        "        if (dataframe[int(column)][row_index] is None) or (str(dataframe[int(column)][row_index]) == 'nan'):\r\n",
        "          pass\r\n",
        "        else:\r\n",
        "          missing_value_class_values.append( int(float(dataframe[int(column)][row_index])) )\r\n",
        "\r\n",
        "    if missing_value_class_values:\r\n",
        "      dataframe[int(column)][index] = np.mean(missing_value_class_values)\r\n",
        "    else:\r\n",
        "      dataframe[int(column)][index] = 0\r\n",
        "\r\n",
        "  \r\n",
        "  return dataframe"
      ],
      "execution_count": 4,
      "outputs": []
    },
    {
      "cell_type": "code",
      "metadata": {
        "id": "6I-mnOn1JPUY"
      },
      "source": [
        "def missing_handle_mean(dataframe, column, indexes):\r\n",
        "  \r\n",
        "  for index in indexes[0]:\r\n",
        "\r\n",
        "    \r\n",
        "    column_without_nan = dataframe[int(column)].dropna()\r\n",
        "    column_without_nan = np.array(np.array(column_without_nan.values, dtype=float), dtype=int)\r\n",
        "    dataframe[int(column)][index] = column_without_nan.mean()\r\n",
        "  \r\n",
        "  return dataframe"
      ],
      "execution_count": 5,
      "outputs": []
    },
    {
      "cell_type": "code",
      "metadata": {
        "id": "0DOrpA1OJSEr"
      },
      "source": [
        "\r\n",
        "def missing_handler(dataframe, missing_values_indexes, method='Class_mean'):\r\n",
        "  \r\n",
        "\r\n",
        "  if method=='Class_mean':\r\n",
        "    for key in missing_values_indexes:\r\n",
        "      dataframe = missing_handle_classmean(dataframe, key, missing_values_indexes[key])\r\n",
        "\r\n",
        "  elif method=='feature_mean':\r\n",
        "    for key in missing_values_indexes:\r\n",
        "      dataframe = missing_handle_mean(dataframe, key, missing_values_indexes[key])\r\n",
        "  else:\r\n",
        "    pass\r\n",
        "\r\n",
        "  \r\n",
        "  return dataframe"
      ],
      "execution_count": 6,
      "outputs": []
    },
    {
      "cell_type": "code",
      "metadata": {
        "colab": {
          "base_uri": "https://localhost:8080/"
        },
        "id": "F1m9USESK2eL",
        "outputId": "71c5fba4-1e99-4c9e-a749-d538d4f10713"
      },
      "source": [
        "dataset = missing_handler(dataset, missing_values_indexes, method='Class_mean')\r\n",
        "dataset.isna().sum()"
      ],
      "execution_count": 7,
      "outputs": [
        {
          "output_type": "stream",
          "text": [
            "/usr/local/lib/python3.7/dist-packages/ipykernel_launcher.py:19: SettingWithCopyWarning: \n",
            "A value is trying to be set on a copy of a slice from a DataFrame\n",
            "\n",
            "See the caveats in the documentation: https://pandas.pydata.org/pandas-docs/stable/user_guide/indexing.html#returning-a-view-versus-a-copy\n"
          ],
          "name": "stderr"
        },
        {
          "output_type": "execute_result",
          "data": {
            "text/plain": [
              "0     0\n",
              "1     0\n",
              "2     0\n",
              "3     0\n",
              "4     0\n",
              "5     0\n",
              "6     0\n",
              "7     0\n",
              "8     0\n",
              "9     0\n",
              "10    0\n",
              "11    0\n",
              "12    0\n",
              "13    0\n",
              "14    0\n",
              "15    0\n",
              "16    0\n",
              "17    0\n",
              "18    0\n",
              "19    0\n",
              "20    0\n",
              "21    0\n",
              "22    0\n",
              "23    0\n",
              "24    0\n",
              "25    0\n",
              "26    0\n",
              "27    0\n",
              "28    0\n",
              "29    0\n",
              "30    0\n",
              "31    0\n",
              "32    0\n",
              "33    0\n",
              "34    0\n",
              "35    0\n",
              "36    0\n",
              "37    0\n",
              "38    0\n",
              "39    0\n",
              "40    0\n",
              "41    0\n",
              "42    0\n",
              "43    0\n",
              "44    0\n",
              "45    0\n",
              "46    0\n",
              "47    0\n",
              "48    0\n",
              "49    0\n",
              "dtype: int64"
            ]
          },
          "metadata": {
            "tags": []
          },
          "execution_count": 7
        }
      ]
    },
    {
      "cell_type": "code",
      "metadata": {
        "id": "I6rsmGSIK7K0"
      },
      "source": [
        "def split_dataset(df, train_percentage=0.8, test_percentage=0.2):\r\n",
        "\r\n",
        "\r\n",
        "\r\n",
        "  train = df.sample(frac=(1-test_percentage),random_state=200) #random state is a seed value\r\n",
        "  test = df.drop(train.index)\r\n",
        "\r\n",
        "  return train, test\r\n"
      ],
      "execution_count": 8,
      "outputs": []
    },
    {
      "cell_type": "code",
      "metadata": {
        "colab": {
          "base_uri": "https://localhost:8080/"
        },
        "id": "lqwksj9rVLHQ",
        "outputId": "b9c3e234-d2c7-4678-a6a8-db76682278f3"
      },
      "source": [
        "trainset, testset = split_dataset(dataset, 0.8, 0.2)\r\n",
        "print(len(trainset))\r\n",
        "print(len(testset))"
      ],
      "execution_count": 9,
      "outputs": [
        {
          "output_type": "stream",
          "text": [
            "132\n",
            "33\n"
          ],
          "name": "stdout"
        }
      ]
    },
    {
      "cell_type": "code",
      "metadata": {
        "id": "isSeyBFiVPE8"
      },
      "source": [
        "x_train = trainset.drop([49], axis = 1).values\r\n",
        "y_train = trainset.loc[:, [49]].values.astype('int')\r\n",
        "\r\n",
        "x_test = testset.drop([49], axis = 1).values\r\n",
        "y_test = testset.loc[:, [49]].values.astype('int')"
      ],
      "execution_count": 10,
      "outputs": []
    },
    {
      "cell_type": "code",
      "metadata": {
        "colab": {
          "base_uri": "https://localhost:8080/"
        },
        "id": "7pmvNXOqVeAF",
        "outputId": "8f5abfff-ad55-4039-9ccf-66dcfe6197f3"
      },
      "source": [
        "print('x_train shapes: ', x_train.shape)\r\n",
        "print('y_train shapes: ', y_train.shape)\r\n",
        "print('x_test shapes: ', x_test.shape)\r\n",
        "print('y_test shapes: ', y_test.shape)"
      ],
      "execution_count": 11,
      "outputs": [
        {
          "output_type": "stream",
          "text": [
            "x_train shapes:  (132, 49)\n",
            "y_train shapes:  (132, 1)\n",
            "x_test shapes:  (33, 49)\n",
            "y_test shapes:  (33, 1)\n"
          ],
          "name": "stdout"
        }
      ]
    },
    {
      "cell_type": "code",
      "metadata": {
        "colab": {
          "base_uri": "https://localhost:8080/"
        },
        "id": "LBoE1fgnViJN",
        "outputId": "d2baa080-782d-4364-8d84-183aa8a00ae2"
      },
      "source": [
        "from sklearn.ensemble import RandomForestClassifier\r\n",
        "clf = RandomForestClassifier(max_depth=4, random_state=0)\r\n",
        "clf.fit(x_train, y_train)"
      ],
      "execution_count": 12,
      "outputs": [
        {
          "output_type": "stream",
          "text": [
            "/usr/local/lib/python3.7/dist-packages/ipykernel_launcher.py:3: DataConversionWarning: A column-vector y was passed when a 1d array was expected. Please change the shape of y to (n_samples,), for example using ravel().\n",
            "  This is separate from the ipykernel package so we can avoid doing imports until\n"
          ],
          "name": "stderr"
        },
        {
          "output_type": "execute_result",
          "data": {
            "text/plain": [
              "RandomForestClassifier(bootstrap=True, ccp_alpha=0.0, class_weight=None,\n",
              "                       criterion='gini', max_depth=4, max_features='auto',\n",
              "                       max_leaf_nodes=None, max_samples=None,\n",
              "                       min_impurity_decrease=0.0, min_impurity_split=None,\n",
              "                       min_samples_leaf=1, min_samples_split=2,\n",
              "                       min_weight_fraction_leaf=0.0, n_estimators=100,\n",
              "                       n_jobs=None, oob_score=False, random_state=0, verbose=0,\n",
              "                       warm_start=False)"
            ]
          },
          "metadata": {
            "tags": []
          },
          "execution_count": 12
        }
      ]
    },
    {
      "cell_type": "code",
      "metadata": {
        "colab": {
          "base_uri": "https://localhost:8080/"
        },
        "id": "n3G2V8OyV7nf",
        "outputId": "e00cd1a1-4a09-4094-ee6e-662898f7d6de"
      },
      "source": [
        "print(clf.predict(x_test))\r\n",
        "print('-----------------')\r\n",
        "print(y_test)"
      ],
      "execution_count": 16,
      "outputs": [
        {
          "output_type": "stream",
          "text": [
            "[1 0 1 0 1 0 0 1 1 0 0 0 0 1 1 1 1 1 1 1 0 0 1 0 1 1 1 1 1 1 1 1 1]\n",
            "-----------------\n",
            "[[1]\n",
            " [0]\n",
            " [1]\n",
            " [0]\n",
            " [1]\n",
            " [0]\n",
            " [0]\n",
            " [1]\n",
            " [0]\n",
            " [0]\n",
            " [0]\n",
            " [0]\n",
            " [0]\n",
            " [1]\n",
            " [0]\n",
            " [0]\n",
            " [1]\n",
            " [1]\n",
            " [1]\n",
            " [1]\n",
            " [1]\n",
            " [0]\n",
            " [0]\n",
            " [0]\n",
            " [1]\n",
            " [1]\n",
            " [1]\n",
            " [1]\n",
            " [1]\n",
            " [1]\n",
            " [1]\n",
            " [1]\n",
            " [1]]\n"
          ],
          "name": "stdout"
        }
      ]
    },
    {
      "cell_type": "code",
      "metadata": {
        "colab": {
          "base_uri": "https://localhost:8080/"
        },
        "id": "TD14aNigWIW4",
        "outputId": "9c2bd63f-f398-44ec-a55f-d8bf72140735"
      },
      "source": [
        "clf.score(x_test, y_test)"
      ],
      "execution_count": 14,
      "outputs": [
        {
          "output_type": "execute_result",
          "data": {
            "text/plain": [
              "0.8787878787878788"
            ]
          },
          "metadata": {
            "tags": []
          },
          "execution_count": 14
        }
      ]
    },
    {
      "cell_type": "code",
      "metadata": {
        "id": "N_uI0q4NWOpa"
      },
      "source": [
        "# accuracy score on test data is 0.87 using << the mean of the class >> while \r\n",
        "# it is 0.74 using << the mean of column >> "
      ],
      "execution_count": null,
      "outputs": []
    }
  ]
}