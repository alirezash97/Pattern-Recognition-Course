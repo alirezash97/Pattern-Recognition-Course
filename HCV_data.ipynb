{
  "nbformat": 4,
  "nbformat_minor": 0,
  "metadata": {
    "colab": {
      "name": "HCV_data.ipynb",
      "provenance": [],
      "authorship_tag": "ABX9TyPFIVFpMOeP1cROWV0Jjtt9",
      "include_colab_link": true
    },
    "kernelspec": {
      "name": "python3",
      "display_name": "Python 3"
    }
  },
  "cells": [
    {
      "cell_type": "markdown",
      "metadata": {
        "id": "view-in-github",
        "colab_type": "text"
      },
      "source": [
        "<a href=\"https://colab.research.google.com/github/alirezash97/Pattern-Recognition-Course/blob/main/HCV_data.ipynb\" target=\"_parent\"><img src=\"https://colab.research.google.com/assets/colab-badge.svg\" alt=\"Open In Colab\"/></a>"
      ]
    },
    {
      "cell_type": "code",
      "metadata": {
        "id": "eoIqsSv6lxk3"
      },
      "source": [
        "!wget 'https://archive.ics.uci.edu/ml/machine-learning-databases/00571/hcvdat0.csv'"
      ],
      "execution_count": null,
      "outputs": []
    },
    {
      "cell_type": "code",
      "metadata": {
        "colab": {
          "base_uri": "https://localhost:8080/",
          "height": 195
        },
        "id": "iNhvZHIWl23L",
        "outputId": "365a136a-19d2-451e-a2c1-a99618687e42"
      },
      "source": [
        "import pandas as pd \r\n",
        "import numpy as np\r\n",
        "\r\n",
        "\r\n",
        "dataset = pd.read_csv('/content/hcvdat0.csv')\r\n",
        "dataset.head()"
      ],
      "execution_count": 1,
      "outputs": [
        {
          "output_type": "execute_result",
          "data": {
            "text/html": [
              "<div>\n",
              "<style scoped>\n",
              "    .dataframe tbody tr th:only-of-type {\n",
              "        vertical-align: middle;\n",
              "    }\n",
              "\n",
              "    .dataframe tbody tr th {\n",
              "        vertical-align: top;\n",
              "    }\n",
              "\n",
              "    .dataframe thead th {\n",
              "        text-align: right;\n",
              "    }\n",
              "</style>\n",
              "<table border=\"1\" class=\"dataframe\">\n",
              "  <thead>\n",
              "    <tr style=\"text-align: right;\">\n",
              "      <th></th>\n",
              "      <th>Unnamed: 0</th>\n",
              "      <th>Category</th>\n",
              "      <th>Age</th>\n",
              "      <th>Sex</th>\n",
              "      <th>ALB</th>\n",
              "      <th>ALP</th>\n",
              "      <th>ALT</th>\n",
              "      <th>AST</th>\n",
              "      <th>BIL</th>\n",
              "      <th>CHE</th>\n",
              "      <th>CHOL</th>\n",
              "      <th>CREA</th>\n",
              "      <th>GGT</th>\n",
              "      <th>PROT</th>\n",
              "    </tr>\n",
              "  </thead>\n",
              "  <tbody>\n",
              "    <tr>\n",
              "      <th>0</th>\n",
              "      <td>1</td>\n",
              "      <td>0=Blood Donor</td>\n",
              "      <td>32</td>\n",
              "      <td>m</td>\n",
              "      <td>38.5</td>\n",
              "      <td>52.5</td>\n",
              "      <td>7.7</td>\n",
              "      <td>22.1</td>\n",
              "      <td>7.5</td>\n",
              "      <td>6.93</td>\n",
              "      <td>3.23</td>\n",
              "      <td>106.0</td>\n",
              "      <td>12.1</td>\n",
              "      <td>69.0</td>\n",
              "    </tr>\n",
              "    <tr>\n",
              "      <th>1</th>\n",
              "      <td>2</td>\n",
              "      <td>0=Blood Donor</td>\n",
              "      <td>32</td>\n",
              "      <td>m</td>\n",
              "      <td>38.5</td>\n",
              "      <td>70.3</td>\n",
              "      <td>18.0</td>\n",
              "      <td>24.7</td>\n",
              "      <td>3.9</td>\n",
              "      <td>11.17</td>\n",
              "      <td>4.80</td>\n",
              "      <td>74.0</td>\n",
              "      <td>15.6</td>\n",
              "      <td>76.5</td>\n",
              "    </tr>\n",
              "    <tr>\n",
              "      <th>2</th>\n",
              "      <td>3</td>\n",
              "      <td>0=Blood Donor</td>\n",
              "      <td>32</td>\n",
              "      <td>m</td>\n",
              "      <td>46.9</td>\n",
              "      <td>74.7</td>\n",
              "      <td>36.2</td>\n",
              "      <td>52.6</td>\n",
              "      <td>6.1</td>\n",
              "      <td>8.84</td>\n",
              "      <td>5.20</td>\n",
              "      <td>86.0</td>\n",
              "      <td>33.2</td>\n",
              "      <td>79.3</td>\n",
              "    </tr>\n",
              "    <tr>\n",
              "      <th>3</th>\n",
              "      <td>4</td>\n",
              "      <td>0=Blood Donor</td>\n",
              "      <td>32</td>\n",
              "      <td>m</td>\n",
              "      <td>43.2</td>\n",
              "      <td>52.0</td>\n",
              "      <td>30.6</td>\n",
              "      <td>22.6</td>\n",
              "      <td>18.9</td>\n",
              "      <td>7.33</td>\n",
              "      <td>4.74</td>\n",
              "      <td>80.0</td>\n",
              "      <td>33.8</td>\n",
              "      <td>75.7</td>\n",
              "    </tr>\n",
              "    <tr>\n",
              "      <th>4</th>\n",
              "      <td>5</td>\n",
              "      <td>0=Blood Donor</td>\n",
              "      <td>32</td>\n",
              "      <td>m</td>\n",
              "      <td>39.2</td>\n",
              "      <td>74.1</td>\n",
              "      <td>32.6</td>\n",
              "      <td>24.8</td>\n",
              "      <td>9.6</td>\n",
              "      <td>9.15</td>\n",
              "      <td>4.32</td>\n",
              "      <td>76.0</td>\n",
              "      <td>29.9</td>\n",
              "      <td>68.7</td>\n",
              "    </tr>\n",
              "  </tbody>\n",
              "</table>\n",
              "</div>"
            ],
            "text/plain": [
              "   Unnamed: 0       Category  Age Sex   ALB  ...    CHE  CHOL   CREA   GGT  PROT\n",
              "0           1  0=Blood Donor   32   m  38.5  ...   6.93  3.23  106.0  12.1  69.0\n",
              "1           2  0=Blood Donor   32   m  38.5  ...  11.17  4.80   74.0  15.6  76.5\n",
              "2           3  0=Blood Donor   32   m  46.9  ...   8.84  5.20   86.0  33.2  79.3\n",
              "3           4  0=Blood Donor   32   m  43.2  ...   7.33  4.74   80.0  33.8  75.7\n",
              "4           5  0=Blood Donor   32   m  39.2  ...   9.15  4.32   76.0  29.9  68.7\n",
              "\n",
              "[5 rows x 14 columns]"
            ]
          },
          "metadata": {
            "tags": []
          },
          "execution_count": 1
        }
      ]
    },
    {
      "cell_type": "code",
      "metadata": {
        "colab": {
          "base_uri": "https://localhost:8080/"
        },
        "id": "O7tF7j5YmABf",
        "outputId": "93aa072c-8ff9-4133-b017-983b36d86571"
      },
      "source": [
        "#check for missing values\r\n",
        "\r\n",
        "dataset.isnull().sum()"
      ],
      "execution_count": 2,
      "outputs": [
        {
          "output_type": "execute_result",
          "data": {
            "text/plain": [
              "Unnamed: 0     0\n",
              "Category       0\n",
              "Age            0\n",
              "Sex            0\n",
              "ALB            1\n",
              "ALP           18\n",
              "ALT            1\n",
              "AST            0\n",
              "BIL            0\n",
              "CHE            0\n",
              "CHOL          10\n",
              "CREA           0\n",
              "GGT            0\n",
              "PROT           1\n",
              "dtype: int64"
            ]
          },
          "metadata": {
            "tags": []
          },
          "execution_count": 2
        }
      ]
    },
    {
      "cell_type": "code",
      "metadata": {
        "colab": {
          "base_uri": "https://localhost:8080/"
        },
        "id": "RcF9303Smpx6",
        "outputId": "32489281-d0e5-4ae2-c26f-5e4ea03ebf5b"
      },
      "source": [
        "# get missing values indexes for ALB, ALP, CHOL and PROT features\r\n",
        "\r\n",
        "ALB_missing_indexes = dataset['ALB'].isnull().to_numpy().nonzero()\r\n",
        "ALP_missing_indexes = dataset['ALP'].isnull().to_numpy().nonzero()\r\n",
        "ALT_missing_indexes = dataset['ALT'].isnull().to_numpy().nonzero()\r\n",
        "CHOL_missing_indexes = dataset['CHOL'].isnull().to_numpy().nonzero()\r\n",
        "PROT_missing_indexes = dataset['PROT'].isnull().to_numpy().nonzero()\r\n",
        "print('ALB missing values: \\n', ALB_missing_indexes)\r\n",
        "print('\\nALP missing values: \\n', ALP_missing_indexes)\r\n",
        "print('\\nALT missing values: \\n', ALT_missing_indexes)\r\n",
        "print('\\nCHOL missing values: \\n', CHOL_missing_indexes)\r\n",
        "print('\\nPROT missing values: \\n', PROT_missing_indexes)"
      ],
      "execution_count": 3,
      "outputs": [
        {
          "output_type": "stream",
          "text": [
            "ALB missing values: \n",
            " (array([603]),)\n",
            "\n",
            "ALP missing values: \n",
            " (array([541, 545, 546, 568, 569, 570, 571, 576, 581, 582, 583, 584, 585,\n",
            "       590, 592, 603, 613, 614]),)\n",
            "\n",
            "ALT missing values: \n",
            " (array([540]),)\n",
            "\n",
            "CHOL missing values: \n",
            " (array([121, 319, 329, 413, 424, 433, 498, 584, 590, 603]),)\n",
            "\n",
            "PROT missing values: \n",
            " (array([590]),)\n"
          ],
          "name": "stdout"
        }
      ]
    },
    {
      "cell_type": "code",
      "metadata": {
        "id": "vW-s8MU6nkkT"
      },
      "source": [
        "def missing_handle_mean(dataframe, column, indexes):\r\n",
        "  \r\n",
        "  for index in indexes:\r\n",
        "\r\n",
        "    dataframe[column][index] = dataframe[column].mean()\r\n",
        "  \r\n",
        "  return dataframe\r\n"
      ],
      "execution_count": 4,
      "outputs": []
    },
    {
      "cell_type": "code",
      "metadata": {
        "id": "OiPSZUD2q5SS"
      },
      "source": [
        "def missing_handle_classmean(dataframe, column, indexes):\r\n",
        "  \r\n",
        "  for index in indexes:\r\n",
        "    \r\n",
        "    missing_value_class_values = []\r\n",
        "    index_label = dataframe['Category'][index]\r\n",
        "    for row_index, row in dataset.iterrows():\r\n",
        "      if str(index_label) == str(row['Category']):\r\n",
        "        \r\n",
        "        missing_value_class_values.append( dataframe[column][row_index] )\r\n",
        "\r\n",
        "    cleanedList = [x for x in missing_value_class_values if str(x) != 'nan']\r\n",
        "    dataframe[column][index] = np.mean(cleanedList)\r\n",
        "  \r\n",
        "  return dataframe"
      ],
      "execution_count": 5,
      "outputs": []
    },
    {
      "cell_type": "code",
      "metadata": {
        "id": "xt6K9CRKzpUI"
      },
      "source": [
        "def preprocessing(df, missing_handler=None):\r\n",
        "\r\n",
        "  for row_index, row in df.iterrows():\r\n",
        "\r\n",
        "    # Sex Handler\r\n",
        "    if row['Sex'] == 'm':\r\n",
        "      df['Sex'][row_index] = 1\r\n",
        "    elif row['Sex'] == 'f':\r\n",
        "      df['Sex'][row_index] = 2\r\n",
        "    else:\r\n",
        "      pass\r\n",
        "\r\n",
        "    # Category to numerical \r\n",
        "    if row['Category'] == '0=Blood Donor':\r\n",
        "      df['Category'][row_index] = 0\r\n",
        "    elif row['Category'] == '0s=suspect Blood Donor':\r\n",
        "      df['Category'][row_index] = 1\r\n",
        "    elif row['Category'] == '1=Hepatitis':\r\n",
        "      df['Category'][row_index] = 2\r\n",
        "    elif row['Category'] == '2=Fibrosis':\r\n",
        "      df['Category'][row_index] = 3\r\n",
        "    elif row['Category'] == '3=Cirrhosis':\r\n",
        "      df['Category'][row_index] = 4\r\n",
        "    else:\r\n",
        "      pass\r\n",
        "\r\n",
        "  \r\n",
        "  if missing_handler == 'Column_Mean':\r\n",
        "    df = missing_handle_mean(df, 'ALB', ALB_missing_indexes[0])\r\n",
        "    df = missing_handle_mean(df, 'ALP', ALP_missing_indexes[0])\r\n",
        "    df = missing_handle_mean(df, 'ALT', ALT_missing_indexes[0])\r\n",
        "    df = missing_handle_mean(df, 'CHOL', CHOL_missing_indexes[0])\r\n",
        "    df = missing_handle_mean(df, 'PROT', PROT_missing_indexes[0])\r\n",
        "  elif missing_handler == 'Class_Mean':\r\n",
        "    df = missing_handle_classmean(df, 'ALB', ALB_missing_indexes[0])\r\n",
        "    df = missing_handle_classmean(df, 'ALP', ALP_missing_indexes[0])\r\n",
        "    df = missing_handle_classmean(df, 'ALT', ALT_missing_indexes[0])\r\n",
        "    df = missing_handle_classmean(df, 'CHOL', CHOL_missing_indexes[0])\r\n",
        "    df = missing_handle_classmean(df, 'PROT', PROT_missing_indexes[0])\r\n",
        "  else:\r\n",
        "    pass\r\n",
        "\r\n",
        "  \r\n",
        "  return df\r\n"
      ],
      "execution_count": 6,
      "outputs": []
    },
    {
      "cell_type": "code",
      "metadata": {
        "colab": {
          "base_uri": "https://localhost:8080/"
        },
        "id": "jlyV3hfHp3An",
        "outputId": "5cd6bd37-a553-4b9e-8dd1-e53a8f0df25e"
      },
      "source": [
        "dataset = preprocessing(dataset, missing_handler='Class_Mean')\r\n",
        "\r\n",
        "# checking fo missing values after preprocessing\r\n",
        "dataset.isnull().sum()\r\n"
      ],
      "execution_count": 7,
      "outputs": [
        {
          "output_type": "stream",
          "text": [
            "/usr/local/lib/python3.7/dist-packages/ipykernel_launcher.py:7: SettingWithCopyWarning: \n",
            "A value is trying to be set on a copy of a slice from a DataFrame\n",
            "\n",
            "See the caveats in the documentation: https://pandas.pydata.org/pandas-docs/stable/user_guide/indexing.html#returning-a-view-versus-a-copy\n",
            "  import sys\n",
            "/usr/local/lib/python3.7/dist-packages/ipykernel_launcher.py:15: SettingWithCopyWarning: \n",
            "A value is trying to be set on a copy of a slice from a DataFrame\n",
            "\n",
            "See the caveats in the documentation: https://pandas.pydata.org/pandas-docs/stable/user_guide/indexing.html#returning-a-view-versus-a-copy\n",
            "  from ipykernel import kernelapp as app\n",
            "/usr/local/lib/python3.7/dist-packages/ipykernel_launcher.py:9: SettingWithCopyWarning: \n",
            "A value is trying to be set on a copy of a slice from a DataFrame\n",
            "\n",
            "See the caveats in the documentation: https://pandas.pydata.org/pandas-docs/stable/user_guide/indexing.html#returning-a-view-versus-a-copy\n",
            "  if __name__ == '__main__':\n",
            "/usr/local/lib/python3.7/dist-packages/ipykernel_launcher.py:17: SettingWithCopyWarning: \n",
            "A value is trying to be set on a copy of a slice from a DataFrame\n",
            "\n",
            "See the caveats in the documentation: https://pandas.pydata.org/pandas-docs/stable/user_guide/indexing.html#returning-a-view-versus-a-copy\n",
            "/usr/local/lib/python3.7/dist-packages/ipykernel_launcher.py:19: SettingWithCopyWarning: \n",
            "A value is trying to be set on a copy of a slice from a DataFrame\n",
            "\n",
            "See the caveats in the documentation: https://pandas.pydata.org/pandas-docs/stable/user_guide/indexing.html#returning-a-view-versus-a-copy\n",
            "/usr/local/lib/python3.7/dist-packages/ipykernel_launcher.py:21: SettingWithCopyWarning: \n",
            "A value is trying to be set on a copy of a slice from a DataFrame\n",
            "\n",
            "See the caveats in the documentation: https://pandas.pydata.org/pandas-docs/stable/user_guide/indexing.html#returning-a-view-versus-a-copy\n",
            "/usr/local/lib/python3.7/dist-packages/ipykernel_launcher.py:23: SettingWithCopyWarning: \n",
            "A value is trying to be set on a copy of a slice from a DataFrame\n",
            "\n",
            "See the caveats in the documentation: https://pandas.pydata.org/pandas-docs/stable/user_guide/indexing.html#returning-a-view-versus-a-copy\n",
            "/usr/local/lib/python3.7/dist-packages/ipykernel_launcher.py:13: SettingWithCopyWarning: \n",
            "A value is trying to be set on a copy of a slice from a DataFrame\n",
            "\n",
            "See the caveats in the documentation: https://pandas.pydata.org/pandas-docs/stable/user_guide/indexing.html#returning-a-view-versus-a-copy\n",
            "  del sys.path[0]\n"
          ],
          "name": "stderr"
        },
        {
          "output_type": "execute_result",
          "data": {
            "text/plain": [
              "Unnamed: 0    0\n",
              "Category      0\n",
              "Age           0\n",
              "Sex           0\n",
              "ALB           0\n",
              "ALP           0\n",
              "ALT           0\n",
              "AST           0\n",
              "BIL           0\n",
              "CHE           0\n",
              "CHOL          0\n",
              "CREA          0\n",
              "GGT           0\n",
              "PROT          0\n",
              "dtype: int64"
            ]
          },
          "metadata": {
            "tags": []
          },
          "execution_count": 7
        }
      ]
    },
    {
      "cell_type": "code",
      "metadata": {
        "id": "sCIQxfYOqDFp"
      },
      "source": [
        "def split_dataset(df, train_percentage=0.8, test_percentage=0.2):\r\n",
        "\r\n",
        "\r\n",
        "\r\n",
        "  train = df.sample(frac=(1-test_percentage),random_state=200) #random state is a seed value\r\n",
        "  test = df.drop(train.index)\r\n",
        "\r\n",
        "  return train, test\r\n"
      ],
      "execution_count": 8,
      "outputs": []
    },
    {
      "cell_type": "code",
      "metadata": {
        "id": "JeDgAtwz6-xZ"
      },
      "source": [
        "trainset, testset = split_dataset(dataset, 0.8, 0.2)"
      ],
      "execution_count": 9,
      "outputs": []
    },
    {
      "cell_type": "code",
      "metadata": {
        "id": "SJotJypN8Iel"
      },
      "source": [
        "from sklearn.preprocessing import LabelBinarizer\r\n",
        "from scipy import sparse\r\n",
        "\r\n",
        "# dataframe to numpy array \r\n",
        "x_train = trainset.drop(['Category', 'Unnamed: 0'], axis = 1).values\r\n",
        "y_train = trainset.loc[:, 'Category'].values.astype('int')\r\n",
        "\r\n",
        "x_test = testset.drop(['Category', 'Unnamed: 0'], axis = 1).values\r\n",
        "y_test = testset.loc[:, 'Category'].values.astype('int')\r\n"
      ],
      "execution_count": 10,
      "outputs": []
    },
    {
      "cell_type": "code",
      "metadata": {
        "colab": {
          "base_uri": "https://localhost:8080/"
        },
        "id": "B2LUnZuERGCZ",
        "outputId": "33c2c9a9-d57d-4462-b9f1-7850ef414fea"
      },
      "source": [
        "print('x_train shapes: ', x_train.shape)\r\n",
        "print('y_train shapes: ', y_train.shape)\r\n",
        "print('x_test shapes: ', x_test.shape)\r\n",
        "print('x_test shapes: ', x_test.shape)"
      ],
      "execution_count": 11,
      "outputs": [
        {
          "output_type": "stream",
          "text": [
            "x_train shapes:  (492, 12)\n",
            "y_train shapes:  (492,)\n",
            "x_test shapes:  (123, 12)\n",
            "x_test shapes:  (123, 12)\n"
          ],
          "name": "stdout"
        }
      ]
    },
    {
      "cell_type": "code",
      "metadata": {
        "colab": {
          "base_uri": "https://localhost:8080/"
        },
        "id": "zzxueNRXRd0W",
        "outputId": "22a1fa35-7481-4273-ee76-15d3a579a249"
      },
      "source": [
        "from sklearn.pipeline import make_pipeline\r\n",
        "from sklearn.preprocessing import StandardScaler\r\n",
        "from sklearn.svm import SVC\r\n",
        "clf = SVC(decision_function_shape='ovo')\r\n",
        "clf.fit(x_train, y_train)"
      ],
      "execution_count": 12,
      "outputs": [
        {
          "output_type": "execute_result",
          "data": {
            "text/plain": [
              "SVC(C=1.0, break_ties=False, cache_size=200, class_weight=None, coef0=0.0,\n",
              "    decision_function_shape='ovo', degree=3, gamma='scale', kernel='rbf',\n",
              "    max_iter=-1, probability=False, random_state=None, shrinking=True,\n",
              "    tol=0.001, verbose=False)"
            ]
          },
          "metadata": {
            "tags": []
          },
          "execution_count": 12
        }
      ]
    },
    {
      "cell_type": "code",
      "metadata": {
        "colab": {
          "base_uri": "https://localhost:8080/"
        },
        "id": "5xOgD2CiR9uZ",
        "outputId": "a0bb752b-1127-4065-f5c3-b4480c8a72ec"
      },
      "source": [
        "from sklearn.metrics import confusion_matrix\r\n",
        "\r\n",
        "y_pred = clf.predict(x_test)\r\n",
        "print(y_pred)\r\n",
        "print(y_test)\r\n",
        "confusion_matrix(y_test, y_pred)"
      ],
      "execution_count": 13,
      "outputs": [
        {
          "output_type": "stream",
          "text": [
            "[0 0 0 0 0 0 0 0 0 0 0 0 0 0 0 0 0 0 0 0 0 0 0 0 0 0 0 0 0 0 0 0 0 0 0 0 0\n",
            " 0 0 0 0 0 0 0 0 0 0 0 0 0 0 0 0 0 0 0 0 0 0 0 0 0 0 0 0 0 0 0 0 0 0 0 0 0\n",
            " 0 0 0 0 0 0 0 0 0 0 0 0 0 0 0 0 0 0 0 0 0 0 0 0 0 0 0 0 0 0 0 0 0 0 4 3 0\n",
            " 0 0 2 2 0 2 4 4 4 4 4 0]\n",
            "[0 0 0 0 0 0 0 0 0 0 0 0 0 0 0 0 0 0 0 0 0 0 0 0 0 0 0 0 0 0 0 0 0 0 0 0 0\n",
            " 0 0 0 0 0 0 0 0 0 0 0 0 0 0 0 0 0 0 0 0 0 0 0 0 0 0 0 0 0 0 0 0 0 0 0 0 0\n",
            " 0 0 0 0 0 0 0 0 0 0 0 0 0 0 0 0 0 0 0 0 0 0 0 0 0 0 0 0 0 0 0 0 0 0 1 2 2\n",
            " 2 3 3 3 3 4 4 4 4 4 4 4]\n"
          ],
          "name": "stdout"
        },
        {
          "output_type": "execute_result",
          "data": {
            "text/plain": [
              "array([[108,   0,   0,   0,   0],\n",
              "       [  0,   0,   0,   0,   1],\n",
              "       [  2,   0,   0,   1,   0],\n",
              "       [  2,   0,   2,   0,   0],\n",
              "       [  1,   0,   1,   0,   5]])"
            ]
          },
          "metadata": {
            "tags": []
          },
          "execution_count": 13
        }
      ]
    },
    {
      "cell_type": "code",
      "metadata": {
        "colab": {
          "base_uri": "https://localhost:8080/"
        },
        "id": "lVe9iJ2oS3jw",
        "outputId": "05347aa6-d6d8-49be-95ba-774cc8514a03"
      },
      "source": [
        "clf.score(x_test, y_test)"
      ],
      "execution_count": 14,
      "outputs": [
        {
          "output_type": "execute_result",
          "data": {
            "text/plain": [
              "0.9186991869918699"
            ]
          },
          "metadata": {
            "tags": []
          },
          "execution_count": 14
        }
      ]
    },
    {
      "cell_type": "code",
      "metadata": {
        "id": "CAEU-CZnZO9v"
      },
      "source": [
        ""
      ],
      "execution_count": null,
      "outputs": []
    }
  ]
}